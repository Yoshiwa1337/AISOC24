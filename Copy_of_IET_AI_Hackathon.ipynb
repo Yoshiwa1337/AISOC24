{
  "nbformat": 4,
  "nbformat_minor": 0,
  "metadata": {
    "colab": {
      "private_outputs": true,
      "provenance": [],
      "include_colab_link": true
    },
    "kernelspec": {
      "name": "python3",
      "display_name": "Python 3"
    },
    "language_info": {
      "name": "python"
    }
  },
  "cells": [
    {
      "cell_type": "markdown",
      "metadata": {
        "id": "view-in-github",
        "colab_type": "text"
      },
      "source": [
        "<a href=\"https://colab.research.google.com/github/Yoshiwa1337/AISOC24/blob/main/Copy_of_IET_AI_Hackathon.ipynb\" target=\"_parent\"><img src=\"https://colab.research.google.com/assets/colab-badge.svg\" alt=\"Open In Colab\"/></a>"
      ]
    },
    {
      "cell_type": "markdown",
      "source": [
        "#Operation Hacktivist\n",
        "\n",
        "Greetings, hacktivists. This is your mission controller speaking. I'm here to give you a brief overview of the missions you will be undertaking to stop the criminal mastermind and his evil schemes. You are not just hackers. You are hacktivists. You use your skills and passion to fight for a better world. But the world is in danger.\n",
        "\n",
        "\n",
        "A criminal mastermind Iv@N_T3rr1bl3 is plotting to unleash chaos and destruction with his evil schemes. He has a global network of accomplices, a vast fortune of stolen money, and a secret weapon: advanced artificial intelligence. You are the only ones who can stop him. You have three missions to complete, each one more challenging and rewarding than the last. Are you ready to hack for good?"
      ],
      "metadata": {
        "id": "uw6u-QBRL4ok"
      }
    },
    {
      "cell_type": "markdown",
      "source": [
        "##Mission 1: Operation Safari\n",
        "\n",
        "Your first mission is to stop the animal trafficking. The criminal mastermind is using image recognition technology to capture and smuggle endangered animals across borders. You need to design and train an image recognition AI that can detect and expose his animal trafficking attempts. Complete this mission and you will gain up to 30 credit points which will count towards your victory at the grand hacktivist finale.\n",
        "\n",
        "### The mission objective:\n",
        "\n",
        " - Build an AI model to track Iv@N_T3rr1bl3's animal trafficking network.\n",
        " - Your model should be able to iddentify and differentiate between exotic animals and common household animals.\n",
        " - You will not be provided with any datasets for this mission. It is your mission to find and label your own datasets\n",
        " - If you used/downloaded open datasets from the internet, please include the source in your reference.\n",
        " - The test data will not be publicised, but a sample test dataset containing 20 images in each categories will be released.\n",
        "\n",
        "\n",
        "\n",
        "### AI training template\n",
        "\n",
        "- A template is provided below with comments. Please ensure that your model output follows the exact same format.\n",
        "- The result of your model will be scored by an automated scoring system. Thus, if your model output is not following the template, it might be disqualified."
      ],
      "metadata": {
        "id": "FtJKH1vIRPG4"
      }
    },
    {
      "cell_type": "code",
      "execution_count": null,
      "metadata": {
        "id": "HXFu7wLWLzIr"
      },
      "outputs": [],
      "source": [
        "## Standard libraries. You are not allowed to add additional libraries\n",
        "\n",
        "import tensorflow as tf #main tensorflow library\n",
        "import numpy as np #for math\n",
        "import matplotlib.pyplot as plt #for graphs\n",
        "import pathlib # for directories\n",
        "import PIL # for image manipulation"
      ]
    },
    {
      "cell_type": "code",
      "source": [
        "## Pipeline for Google drive uploads\n",
        "#\n",
        "# As files are deleted from Colab after every session,\n",
        "# it is recommended to upload your training data to Google Drive\n",
        "#\n",
        "# The following libraries enables you to import files from Google Drive\n",
        "\n",
        "\n",
        "!pip install -U -q PyDrive #Run this once to install PyDrive\n",
        "\n",
        "from pydrive.auth import GoogleAuth\n",
        "from pydrive.drive import GoogleDrive\n",
        "from google.colab import auth\n",
        "from oauth2client.client import GoogleCredentials\n",
        "\n",
        "\n",
        "# You will need to authenticate google drive. If you choose not to,\n",
        "# you can manuallly upload to the colab files by clicking on the file\n",
        "# icon on the left side of the panel and upload it manually.\n",
        "\n",
        "# You can skip these codes if you chose to upload manually.\n"
      ],
      "metadata": {
        "id": "VBO9BzhlUCJt"
      },
      "execution_count": null,
      "outputs": []
    },
    {
      "cell_type": "code",
      "source": [
        "# Accessing files from Google Drive\n",
        "# Skip if you chose to upload manually\n",
        "\n",
        "auth.authenticate_user()\n",
        "gauth = GoogleAuth()\n",
        "gauth.credentials = GoogleCredentials.get_application_default()\n",
        "drive = GoogleDrive(gauth)\n",
        "\n",
        "# Replace \"your_data.zip\" with the filename of the zip file you uploaded to Google Drive.\n",
        "# Make sure to upload the file to the Root directory of your Google Drive (i.e. Don't put the files in another folder)\n",
        "\n",
        "fid = drive.ListFile({'q':\"title='your_data.zip'\"}).GetList()[0]['id']\n",
        "f = drive.CreateFile({'id': fid})\n",
        "f.GetContentFile('your_data.zip')"
      ],
      "metadata": {
        "id": "14xC4nx6Ua6o"
      },
      "execution_count": null,
      "outputs": []
    },
    {
      "cell_type": "code",
      "source": [
        "# UNZIP\n",
        "# Once the zip file is successfully downloaded to your Colab workspace,\n",
        "# Use the following command to unzip it.\n",
        "\n",
        "# If you chose to upload the zip file manually instead of using Google Drive,\n",
        "# you may use the command to unzip your files too.\n",
        "\n",
        "!unzip your_data.zip"
      ],
      "metadata": {
        "id": "_o58nH5gJGLX"
      },
      "execution_count": null,
      "outputs": []
    },
    {
      "cell_type": "markdown",
      "source": [
        "### Preparing the files in the directory\n",
        "\n",
        "Your training data should have training data for each classes stored in a folder with the class name.\n",
        "\n",
        "your_data/exotic --- Should contain images of exotic animals which would be trafficked by Iv@N_T3rr1bl3. These are the animals that you should detect.\n",
        "\n",
        "your_data/common --- These are common household animals that should be ignored.\n"
      ],
      "metadata": {
        "id": "PthKW5JcV-0r"
      }
    },
    {
      "cell_type": "code",
      "source": [
        "# Rename <your_data> to the name of your folder.\n",
        "data_dir = '/content/your_data'\n",
        "\n",
        "#Make the directory a Path object\n",
        "data_dir = pathlib.Path(data_dir)\n",
        "\n",
        "#Use the Path glob function to find pathname that matches \".jpg\". Use this to get the number of image inside the folder.\n",
        "image_count = len(list(data_dir.glob('*/*.jpg')))\n",
        "\n",
        "#Print the number of images in your data\n",
        "print(image_count)"
      ],
      "metadata": {
        "id": "dy1h1MPiWDGN"
      },
      "execution_count": null,
      "outputs": []
    },
    {
      "cell_type": "code",
      "source": [
        "# Setting the path variables for each of the categories\n",
        "exotic = list(data_dir.glob('exotic/*'))\n",
        "common = list(data_dir.glob('common/*'))\n",
        "\n",
        "#Take a peek at the images\n",
        "PIL.Image.open(str(exotic[1]))"
      ],
      "metadata": {
        "id": "XEjH8qTDXAKv"
      },
      "execution_count": null,
      "outputs": []
    },
    {
      "cell_type": "markdown",
      "source": [
        "### AI model template\n",
        "\n",
        "Feel free to modify the codes in this section to tweak the various model parameters and training parameters."
      ],
      "metadata": {
        "id": "gEzdo36eXXAC"
      }
    },
    {
      "cell_type": "code",
      "source": [
        "# Set a standard for the image to be used in the training.\n",
        "# All images will be resized to this in order to ensure uniformity\n",
        "\n",
        "#Important: During the automated testing, you will be supplied with images sized at 180 px X 180 px. You might want to take this into consideration\n",
        "\n",
        "batch_size = 32\n",
        "img_height = 180\n",
        "img_width = 180"
      ],
      "metadata": {
        "id": "s8lcYOvyXnU8"
      },
      "execution_count": null,
      "outputs": []
    },
    {
      "cell_type": "code",
      "source": [
        "#Set up the dataset - In this example, the validation split is set to 0.2 (20% Validation split). Feel free to tweak this number based on your dataset.\n",
        "\n",
        "train_ds = tf.keras.utils.image_dataset_from_directory(\n",
        "  data_dir,\n",
        "  validation_split=0.2,\n",
        "  subset=\"training\",\n",
        "  seed=123,\n",
        "  image_size=(img_height, img_width),\n",
        "  batch_size=batch_size)\n",
        "\n",
        "val_ds = tf.keras.utils.image_dataset_from_directory(\n",
        "  data_dir,\n",
        "  validation_split=0.2,\n",
        "  subset=\"validation\",\n",
        "  seed=123,\n",
        "  image_size=(img_height, img_width),\n",
        "  batch_size=batch_size)"
      ],
      "metadata": {
        "id": "VdDagrvCXokc"
      },
      "execution_count": null,
      "outputs": []
    },
    {
      "cell_type": "code",
      "source": [
        "#Get class names\n",
        "class_names = train_ds.class_names\n",
        "print(class_names)"
      ],
      "metadata": {
        "id": "smGMIE11YFNe"
      },
      "execution_count": null,
      "outputs": []
    },
    {
      "cell_type": "code",
      "source": [
        "#Building the model\n",
        "\n",
        "#In this case, we are classifying into 2 classes\n",
        "num_classes = 2\n",
        "\n",
        "\n",
        "\n",
        "# Feel free to tweak the struture of the model here\n",
        "model = tf.keras.Sequential([\n",
        "  tf.keras.layers.Rescaling(1./255),\n",
        "  tf.keras.layers.Conv2D(16, 3, padding='same', activation='relu'),\n",
        "  tf.keras.layers.MaxPooling2D(),\n",
        "  tf.keras.layers.Conv2D(24, 3, padding='same', activation='relu'),\n",
        "  tf.keras.layers.MaxPooling2D(),\n",
        "  tf.keras.layers.Conv2D(32, 3, padding='same', activation='relu'),\n",
        "  tf.keras.layers.MaxPooling2D(),\n",
        "  tf.keras.layers.Conv2D(64, 3, padding='same', activation='relu'),\n",
        "  tf.keras.layers.MaxPooling2D(),\n",
        "  tf.keras.layers.Conv2D(32, 3, padding='same', activation='relu'),\n",
        "  tf.keras.layers.MaxPooling2D(),\n",
        "  tf.keras.layers.Dropout(0.2),\n",
        "  tf.keras.layers.Flatten(),\n",
        "  tf.keras.layers.Dense(128, activation='relu'),\n",
        "  tf.keras.layers.Dense(num_classes)\n",
        "])\n",
        "\n",
        "#Compile the model\n",
        "# Feel free to change the parameters here to optimize your model\n",
        "\n",
        "model.compile(optimizer='adam',\n",
        "              loss=tf.keras.losses.SparseCategoricalCrossentropy(from_logits=True),\n",
        "              metrics=['accuracy'])\n"
      ],
      "metadata": {
        "id": "37TmDTm3YLDy"
      },
      "execution_count": null,
      "outputs": []
    },
    {
      "cell_type": "markdown",
      "source": [
        "### Train the Model\n",
        "\n",
        "In the next Section, you will train the model. You will need to repeat this step in order to get the best performing model."
      ],
      "metadata": {
        "id": "kCfJ-L-JYw0H"
      }
    },
    {
      "cell_type": "code",
      "source": [
        "#Train model\n",
        "\n",
        "epochs=5 # Change this to tweak the number of training iteration\n",
        "history = model.fit(\n",
        "  train_ds,\n",
        "  validation_data=val_ds,\n",
        "  epochs=epochs\n",
        ")"
      ],
      "metadata": {
        "id": "oc20XgsWYwMv"
      },
      "execution_count": null,
      "outputs": []
    },
    {
      "cell_type": "markdown",
      "source": [
        "### Sample code for testing the model manually"
      ],
      "metadata": {
        "id": "zjsfLh3JZBl3"
      }
    },
    {
      "cell_type": "code",
      "source": [
        "# Load an image\n",
        "\n",
        "image_path = input(\"Enter the path to your uploaded image\")\n",
        "\n",
        "img = tf.keras.utils.load_img(\n",
        "    image_path, target_size=(img_height, img_width)\n",
        ")\n",
        "img_array = tf.keras.utils.img_to_array(img)\n",
        "img_array = tf.expand_dims(img_array, 0) # Create a batch\n",
        "\n",
        "predictions = model.predict(img_array)\n",
        "score = tf.nn.softmax(predictions[0])\n",
        "\n",
        "\n",
        "\n",
        "\n",
        "print(\n",
        "    \"This is most likely a {} with a {:.2f} percent confidence.\"\n",
        "    .format(class_names[np.argmax(score)], 100 * np.max(score))\n",
        ")"
      ],
      "metadata": {
        "id": "acLxTVNcZBFY"
      },
      "execution_count": null,
      "outputs": []
    },
    {
      "cell_type": "code",
      "source": [
        "# See the image for yourself\n",
        "PIL.Image.open(image_path)"
      ],
      "metadata": {
        "id": "omWlkACWbWOI"
      },
      "execution_count": null,
      "outputs": []
    },
    {
      "cell_type": "markdown",
      "source": [
        "### Downloading and submitting your model file\n",
        "\n",
        "When you are satisfied with your model, save your model using the following code:"
      ],
      "metadata": {
        "id": "IA1NHlLp31NV"
      }
    },
    {
      "cell_type": "code",
      "source": [
        "# You can replace \"MyModel\" with any name\n",
        "tf.saved_model.save(model, \"MyModel\")\n",
        "\n",
        "# Zip the model file\n",
        "!zip -r /content/MyModel.zip /content/MyModel\\\n",
        "\n",
        "# You can then download the model by right clicking on it from the Files tab on the left."
      ],
      "metadata": {
        "id": "EY9AAK294jSb"
      },
      "execution_count": null,
      "outputs": []
    },
    {
      "cell_type": "markdown",
      "source": [
        "#Mission 2: Operation Cardshark\n",
        "\n",
        "Your second mission is to track the credit card scam. The criminal mastermind is using fake websites, phishing emails, and malware to steal credit card information from online shoppers. You need to design a fraud detection system that can flag and alert any fraudulent transactions."
      ],
      "metadata": {
        "id": "AA-8bwu33hLV"
      }
    },
    {
      "cell_type": "code",
      "source": [],
      "metadata": {
        "id": "CNLOjwpI3qtG"
      },
      "execution_count": null,
      "outputs": []
    },
    {
      "cell_type": "markdown",
      "source": [
        "#Mission 3: Operation Stegano-saurus\n",
        "\n",
        "Your third and final mission is to foil the covert communication. The criminal mastermind is using image steganography to hide secret messages in pictures that he posts on social media or sends via email. You need to design an AI that can extract and decode any hidden data within images."
      ],
      "metadata": {
        "id": "JqtsPqz63rEj"
      }
    },
    {
      "cell_type": "code",
      "source": [],
      "metadata": {
        "id": "mmJzSbQb3z4x"
      },
      "execution_count": null,
      "outputs": []
    }
  ]
}